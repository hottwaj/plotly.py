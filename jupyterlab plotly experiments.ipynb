{
 "cells": [
  {
   "cell_type": "code",
   "execution_count": null,
   "metadata": {},
   "outputs": [],
   "source": [
    "from plotly.offline import init_notebook_mode, iplot\n"
   ]
  },
  {
   "cell_type": "code",
   "execution_count": null,
   "metadata": {},
   "outputs": [],
   "source": [
    "iplot([{\"x\": [1, 2, 3], \"y\": [3, 1, 6]}])"
   ]
  },
  {
   "cell_type": "code",
   "execution_count": null,
   "metadata": {},
   "outputs": [],
   "source": [
    "from IPython.display import display_html, HTML"
   ]
  },
  {
   "cell_type": "code",
   "execution_count": null,
   "metadata": {},
   "outputs": [],
   "source": [
    "from IPython.display import display\n",
    " \n",
    "class PlotlyMIMEBundle(object):\n",
    "    def __init__(self, data=[], layout={}, div_id=None):\n",
    "        bundle = {}\n",
    "        bundle['application/vnd.plotly.v1+json'] = { \n",
    "            'data': data, \n",
    "            'layout': layout, \n",
    "            'div_id': div_id\n",
    "        }\n",
    "        self.bundle = bundle\n",
    "    \n",
    "    def _repr_mimebundle_(self, *args, **kwargs):\n",
    "        return self.bundle\n",
    " \n",
    "data = [ \n",
    "    {'x': [1999, 2000, 2001, 2002], 'y': [10, 15, 13, 17], 'type': 'scatter'}, \n",
    "    {'x': [1999, 2000, 2001, 2002], 'y': [16, 5, 11, 9], 'type': 'scatter'}\n",
    "]\n",
    " \n",
    "layout = { \n",
    "    'title': 'Sales Growth', \n",
    "    'xaxis': {'title': 'Year', 'showgrid': False, 'zeroline': False}, \n",
    "    'yaxis': {'title': 'Percent', 'showline': False},\n",
    "    'width': 600,\n",
    "    'height': 400\n",
    "}\n",
    " \n",
    "p = PlotlyMIMEBundle(data, layout)\n"
   ]
  },
  {
   "cell_type": "code",
   "execution_count": null,
   "metadata": {},
   "outputs": [],
   "source": [
    "iplot({'data': data, 'layout': layout})"
   ]
  },
  {
   "cell_type": "code",
   "execution_count": null,
   "metadata": {},
   "outputs": [],
   "source": [
    "display(p)"
   ]
  },
  {
   "cell_type": "code",
   "execution_count": null,
   "metadata": {},
   "outputs": [],
   "source": [
    "HTML('<div id=\"moomooone\">')\n",
    "#PlotlyMIMEBundle(data, layout, div_id = 'moomoo')"
   ]
  },
  {
   "cell_type": "code",
   "execution_count": null,
   "metadata": {},
   "outputs": [],
   "source": [
    "display(HTML('<div id=\"moomootwo\"></div>'))"
   ]
  },
  {
   "cell_type": "code",
   "execution_count": null,
   "metadata": {},
   "outputs": [],
   "source": [
    "iplot({'data': data, 'layout': layout}, dest_div_id='moomootwo')"
   ]
  },
  {
   "cell_type": "code",
   "execution_count": null,
   "metadata": {},
   "outputs": [],
   "source": [
    "display(HTML('<div id=\"moomoo\"></div>'))"
   ]
  },
  {
   "cell_type": "code",
   "execution_count": null,
   "metadata": {},
   "outputs": [],
   "source": [
    "import plotly.plotly_pandas\n",
    "plotly.plotly_pandas = reload(plotly.plotly_pandas)\n",
    "from plotly.plotly_pandas import plotly_interactive_plot, plotly_charts_table\n",
    "\n",
    "import pandas\n",
    "import datetime\n",
    "df = pandas.DataFrame({'x': [4,6,3,7,9,5,3]}, index = [datetime.date(2017, 1, i+1) for i in range(7)])\n",
    "#df.index = pandas.to_datetime(df.index)\n",
    "plotly_interactive_plot(df, dest_div_id = 'moomoo');"
   ]
  },
  {
   "cell_type": "code",
   "execution_count": null,
   "metadata": {},
   "outputs": [],
   "source": [
    "plotly_charts_table([\n",
    "    plotly_interactive_plot(df, defer = True),\n",
    "    plotly_interactive_plot(df * 2, defer = True)\n",
    "], cols = 2)"
   ]
  },
  {
   "cell_type": "code",
   "execution_count": null,
   "metadata": {},
   "outputs": [],
   "source": [
    "plotly_charts_table([\n",
    "    plotly_interactive_plot(df, defer = True),\n",
    "    plotly_interactive_plot(df * 2, defer = True)\n",
    "], cols = 2)"
   ]
  },
  {
   "cell_type": "code",
   "execution_count": null,
   "metadata": {},
   "outputs": [],
   "source": [
    "display(HTML('<div id=\"mofo\"></div>'))"
   ]
  },
  {
   "cell_type": "code",
   "execution_count": null,
   "metadata": {},
   "outputs": [],
   "source": [
    "display(PlotlyMIMEBundle(data, layout, div_id = 'mofo'))"
   ]
  }
 ],
 "metadata": {
  "kernelspec": {
   "display_name": "Python 2.7.15",
   "language": "python",
   "name": "python2"
  },
  "language_info": {
   "codemirror_mode": {
    "name": "ipython",
    "version": 2
   },
   "file_extension": ".py",
   "mimetype": "text/x-python",
   "name": "python",
   "nbconvert_exporter": "python",
   "pygments_lexer": "ipython2"
  },
  "toc": {
   "base_numbering": 1,
   "nav_menu": {
    "height": "12px",
    "width": "252px"
   },
   "number_sections": true,
   "sideBar": true,
   "skip_h1_title": false,
   "title_cell": "Table of Contents",
   "title_sidebar": "Contents",
   "toc_cell": false,
   "toc_position": {},
   "toc_section_display": "block",
   "toc_window_display": false
  }
 },
 "nbformat": 4,
 "nbformat_minor": 2
}
