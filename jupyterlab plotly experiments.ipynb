{
 "cells": [
  {
   "cell_type": "code",
   "execution_count": null,
   "metadata": {},
   "outputs": [],
   "source": [
    "from plotly.offline import init_notebook_mode, iplot\n",
    "init_notebook_mode(connected=False)"
   ]
  },
  {
   "cell_type": "code",
   "execution_count": null,
   "metadata": {},
   "outputs": [],
   "source": [
    "iplot([{\"x\": [1, 2, 3], \"y\": [3, 1, 6]}])"
   ]
  },
  {
   "cell_type": "code",
   "execution_count": null,
   "metadata": {},
   "outputs": [],
   "source": [
    "from IPython.display import display_html, HTML, Javascript"
   ]
  },
  {
   "cell_type": "code",
   "execution_count": null,
   "metadata": {},
   "outputs": [],
   "source": [
    "from IPython.display import display\n",
    " \n",
    "class PlotlyMIMEBundle(object):\n",
    "    def __init__(self, data=[], layout={}, div_id=None):\n",
    "        bundle = {}\n",
    "        bundle['application/vnd.plotly.v1+json'] = { \n",
    "            'data': data, \n",
    "            'layout': layout, \n",
    "            'div_id': div_id\n",
    "        }\n",
    "        self.bundle = bundle\n",
    "    \n",
    "    def _repr_mimebundle_(self, *args, **kwargs):\n",
    "        return self.bundle\n",
    " \n",
    "data = [ \n",
    "    {'x': [1999, 2000, 2001, 2002], 'y': [10, 15, 13, 17], 'type': 'scatter'}, \n",
    "    {'x': [1999, 2000, 2001, 2002], 'y': [16, 5, 11, 9], 'type': 'scatter'}\n",
    "]\n",
    " \n",
    "layout = { \n",
    "    'title': 'Sales Growth', \n",
    "    'xaxis': {'title': 'Year', 'showgrid': False, 'zeroline': False}, \n",
    "    'yaxis': {'title': 'Percent', 'showline': False},\n",
    "    'width': 600,\n",
    "    'height': 400\n",
    "}\n",
    " \n",
    "p = PlotlyMIMEBundle(data, layout)\n"
   ]
  },
  {
   "cell_type": "code",
   "execution_count": null,
   "metadata": {},
   "outputs": [],
   "source": [
    "class HTMLMIMEBundle(object):\n",
    "    def _repr_mimebundle_(self, *args, **kwargs):\n",
    "        bundle = {\n",
    "            'text/html': ''\n",
    "        }\n",
    "        return bundle\n",
    "HTMLMIMEBundle()"
   ]
  },
  {
   "cell_type": "code",
   "execution_count": null,
   "metadata": {},
   "outputs": [],
   "source": [
    "import plotly.io as pio\n",
    "pio.renderers.default = 'iframe' #'plotly_mimetype+notebook'"
   ]
  },
  {
   "cell_type": "code",
   "execution_count": null,
   "metadata": {},
   "outputs": [],
   "source": [
    "iplot({'data': data, 'layout': layout})"
   ]
  },
  {
   "cell_type": "code",
   "execution_count": null,
   "metadata": {},
   "outputs": [],
   "source": [
    "display(p)"
   ]
  },
  {
   "cell_type": "code",
   "execution_count": null,
   "metadata": {},
   "outputs": [],
   "source": [
    "HTML('<div id=\"moomooone\">')"
   ]
  },
  {
   "cell_type": "code",
   "execution_count": null,
   "metadata": {},
   "outputs": [],
   "source": [
    "display(PlotlyMIMEBundle(data, layout, div_id = 'moomoo'))"
   ]
  },
  {
   "cell_type": "code",
   "execution_count": null,
   "metadata": {},
   "outputs": [],
   "source": [
    "display(HTML('<div id=\"moomootwo\"></div>'))"
   ]
  },
  {
   "cell_type": "code",
   "execution_count": null,
   "metadata": {},
   "outputs": [],
   "source": [
    "HTML(\"\"\"\n",
    "<iframe scrolling=\"no\" width=\"620px\" height=\"420\" src=\"http://localhost:8888/files/plotly.py/iframe_figures/figure_22.html?1564758625288\" frameborder=\"0\" allowfullscreen=\"\"></iframe>\n",
    "\"\"\")"
   ]
  },
  {
   "cell_type": "code",
   "execution_count": null,
   "metadata": {},
   "outputs": [],
   "source": [
    "import pdb\n",
    "bundle = iplot({'data': data, 'layout': layout}, dest_div_id='moomootwo',return_bundle=True)\n",
    "#del bundle['application/vnd.plotly.v1+json']\n",
    "#display(bundle, raw=False)\n",
    "display(bundle, raw=True)"
   ]
  },
  {
   "cell_type": "code",
   "execution_count": null,
   "metadata": {},
   "outputs": [],
   "source": [
    "from IPython.display import display_html, HTML\n",
    "display(HTML('<div id=\"moomoo\"></div>'))"
   ]
  },
  {
   "cell_type": "code",
   "execution_count": null,
   "metadata": {},
   "outputs": [],
   "source": [
    "import plotly.plotly_pandas\n",
    "#plotly.plotly_pandas = reload(plotly.plotly_pandas)\n",
    "import plotly.plotly_pandas as ply_pd"
   ]
  },
  {
   "cell_type": "code",
   "execution_count": null,
   "metadata": {},
   "outputs": [],
   "source": [
    "import pandas\n",
    "import datetime\n",
    "df = pandas.DataFrame({'x': [4,6,3,7,9,5,3]}, index = [datetime.date(2017, 1, i+1) for i in range(7)])\n",
    "#df.index = pandas.to_datetime(df.index)\n",
    "ply_pd.chart(df)"
   ]
  },
  {
   "cell_type": "code",
   "execution_count": null,
   "metadata": {},
   "outputs": [],
   "source": [
    "ply_pd.charts_table([\n",
    "    ply_pd.chart(df),\n",
    "    ply_pd.chart(df * 2)\n",
    "], cols = 2)"
   ]
  },
  {
   "cell_type": "code",
   "execution_count": null,
   "metadata": {},
   "outputs": [],
   "source": []
  },
  {
   "cell_type": "code",
   "execution_count": null,
   "metadata": {},
   "outputs": [],
   "source": [
    "plotly_charts_table([\n",
    "    plotly_interactive_plot(df, defer = True),\n",
    "    plotly_interactive_plot(df * 2, defer = True)\n",
    "], cols = 2)"
   ]
  },
  {
   "cell_type": "code",
   "execution_count": null,
   "metadata": {},
   "outputs": [],
   "source": [
    "display(HTML('<div id=\"mofo\"></div>'))"
   ]
  },
  {
   "cell_type": "code",
   "execution_count": null,
   "metadata": {},
   "outputs": [],
   "source": [
    "display(PlotlyMIMEBundle(data, layout, div_id = 'mofo'))"
   ]
  }
 ],
 "metadata": {
  "kernelspec": {
   "display_name": "Python 3",
   "language": "python",
   "name": "python3"
  },
  "language_info": {
   "codemirror_mode": {
    "name": "ipython",
    "version": 3
   },
   "file_extension": ".py",
   "mimetype": "text/x-python",
   "name": "python",
   "nbconvert_exporter": "python",
   "pygments_lexer": "ipython3"
  },
  "toc": {
   "base_numbering": 1,
   "nav_menu": {
    "height": "12px",
    "width": "252px"
   },
   "number_sections": true,
   "sideBar": true,
   "skip_h1_title": false,
   "title_cell": "Table of Contents",
   "title_sidebar": "Contents",
   "toc_cell": false,
   "toc_position": {},
   "toc_section_display": "block",
   "toc_window_display": false
  }
 },
 "nbformat": 4,
 "nbformat_minor": 4
}
